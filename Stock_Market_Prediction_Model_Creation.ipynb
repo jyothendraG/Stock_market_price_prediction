{
  "cells": [
    {
      "cell_type": "code",
      "execution_count": 61,
      "id": "88d67c13-1dca-451c-85d5-eb234183c342",
      "metadata": {
        "id": "88d67c13-1dca-451c-85d5-eb234183c342"
      },
      "outputs": [],
      "source": [
        "import numpy as np\n",
        "import pandas as pd\n",
        "import matplotlib.pyplot as plt\n",
        "import yfinance as yf\n",
        "from datetime import date"
      ]
    },
    {
      "cell_type": "code",
      "execution_count": 97,
      "id": "f3bc102c-1442-4cae-9093-f77f2b7b7e0c",
      "metadata": {
        "colab": {
          "base_uri": "https://localhost:8080/"
        },
        "id": "f3bc102c-1442-4cae-9093-f77f2b7b7e0c",
        "outputId": "2b086a98-9cf8-4d0b-f3ef-429df028bf9a"
      },
      "outputs": [
        {
          "output_type": "stream",
          "name": "stderr",
          "text": [
            "\r[*********************100%%**********************]  1 of 1 completed\n"
          ]
        }
      ],
      "source": [
        "start = '2014-01-01'\n",
        "end = date.today().strftime(\"%Y-%m-%d\")\n",
        "stock = 'MSFT'\n",
        "\n",
        "data = yf.download(stock, start, end)"
      ]
    },
    {
      "cell_type": "code",
      "execution_count": 98,
      "id": "8657c12a-ec44-4ea9-80c9-7ecbec9b0084",
      "metadata": {
        "id": "8657c12a-ec44-4ea9-80c9-7ecbec9b0084"
      },
      "outputs": [],
      "source": [
        "data.reset_index(inplace=True)"
      ]
    },
    {
      "cell_type": "code",
      "execution_count": 99,
      "id": "e8fadd81-946b-47fc-b014-8ecf059302ce",
      "metadata": {
        "colab": {
          "base_uri": "https://localhost:8080/",
          "height": 206
        },
        "id": "e8fadd81-946b-47fc-b014-8ecf059302ce",
        "outputId": "17c480d7-ad50-4cb7-f907-841342bfb7ad"
      },
      "outputs": [
        {
          "output_type": "execute_result",
          "data": {
            "text/plain": [
              "        Date       Open       High        Low      Close  Adj Close    Volume\n",
              "0 2014-01-02  37.349998  37.400002  37.099998  37.160000  31.233059  30632200\n",
              "1 2014-01-03  37.200001  37.220001  36.599998  36.910000  31.022932  31134800\n",
              "2 2014-01-06  36.849998  36.889999  36.110001  36.130001  30.367344  43603700\n",
              "3 2014-01-07  36.330002  36.490002  36.209999  36.410000  30.602690  35802800\n",
              "4 2014-01-08  36.000000  36.139999  35.580002  35.759998  30.056364  59971700"
            ],
            "text/html": [
              "\n",
              "  <div id=\"df-90139dcd-aba2-4bba-91e6-c703702effdd\" class=\"colab-df-container\">\n",
              "    <div>\n",
              "<style scoped>\n",
              "    .dataframe tbody tr th:only-of-type {\n",
              "        vertical-align: middle;\n",
              "    }\n",
              "\n",
              "    .dataframe tbody tr th {\n",
              "        vertical-align: top;\n",
              "    }\n",
              "\n",
              "    .dataframe thead th {\n",
              "        text-align: right;\n",
              "    }\n",
              "</style>\n",
              "<table border=\"1\" class=\"dataframe\">\n",
              "  <thead>\n",
              "    <tr style=\"text-align: right;\">\n",
              "      <th></th>\n",
              "      <th>Date</th>\n",
              "      <th>Open</th>\n",
              "      <th>High</th>\n",
              "      <th>Low</th>\n",
              "      <th>Close</th>\n",
              "      <th>Adj Close</th>\n",
              "      <th>Volume</th>\n",
              "    </tr>\n",
              "  </thead>\n",
              "  <tbody>\n",
              "    <tr>\n",
              "      <th>0</th>\n",
              "      <td>2014-01-02</td>\n",
              "      <td>37.349998</td>\n",
              "      <td>37.400002</td>\n",
              "      <td>37.099998</td>\n",
              "      <td>37.160000</td>\n",
              "      <td>31.233059</td>\n",
              "      <td>30632200</td>\n",
              "    </tr>\n",
              "    <tr>\n",
              "      <th>1</th>\n",
              "      <td>2014-01-03</td>\n",
              "      <td>37.200001</td>\n",
              "      <td>37.220001</td>\n",
              "      <td>36.599998</td>\n",
              "      <td>36.910000</td>\n",
              "      <td>31.022932</td>\n",
              "      <td>31134800</td>\n",
              "    </tr>\n",
              "    <tr>\n",
              "      <th>2</th>\n",
              "      <td>2014-01-06</td>\n",
              "      <td>36.849998</td>\n",
              "      <td>36.889999</td>\n",
              "      <td>36.110001</td>\n",
              "      <td>36.130001</td>\n",
              "      <td>30.367344</td>\n",
              "      <td>43603700</td>\n",
              "    </tr>\n",
              "    <tr>\n",
              "      <th>3</th>\n",
              "      <td>2014-01-07</td>\n",
              "      <td>36.330002</td>\n",
              "      <td>36.490002</td>\n",
              "      <td>36.209999</td>\n",
              "      <td>36.410000</td>\n",
              "      <td>30.602690</td>\n",
              "      <td>35802800</td>\n",
              "    </tr>\n",
              "    <tr>\n",
              "      <th>4</th>\n",
              "      <td>2014-01-08</td>\n",
              "      <td>36.000000</td>\n",
              "      <td>36.139999</td>\n",
              "      <td>35.580002</td>\n",
              "      <td>35.759998</td>\n",
              "      <td>30.056364</td>\n",
              "      <td>59971700</td>\n",
              "    </tr>\n",
              "  </tbody>\n",
              "</table>\n",
              "</div>\n",
              "    <div class=\"colab-df-buttons\">\n",
              "\n",
              "  <div class=\"colab-df-container\">\n",
              "    <button class=\"colab-df-convert\" onclick=\"convertToInteractive('df-90139dcd-aba2-4bba-91e6-c703702effdd')\"\n",
              "            title=\"Convert this dataframe to an interactive table.\"\n",
              "            style=\"display:none;\">\n",
              "\n",
              "  <svg xmlns=\"http://www.w3.org/2000/svg\" height=\"24px\" viewBox=\"0 -960 960 960\">\n",
              "    <path d=\"M120-120v-720h720v720H120Zm60-500h600v-160H180v160Zm220 220h160v-160H400v160Zm0 220h160v-160H400v160ZM180-400h160v-160H180v160Zm440 0h160v-160H620v160ZM180-180h160v-160H180v160Zm440 0h160v-160H620v160Z\"/>\n",
              "  </svg>\n",
              "    </button>\n",
              "\n",
              "  <style>\n",
              "    .colab-df-container {\n",
              "      display:flex;\n",
              "      gap: 12px;\n",
              "    }\n",
              "\n",
              "    .colab-df-convert {\n",
              "      background-color: #E8F0FE;\n",
              "      border: none;\n",
              "      border-radius: 50%;\n",
              "      cursor: pointer;\n",
              "      display: none;\n",
              "      fill: #1967D2;\n",
              "      height: 32px;\n",
              "      padding: 0 0 0 0;\n",
              "      width: 32px;\n",
              "    }\n",
              "\n",
              "    .colab-df-convert:hover {\n",
              "      background-color: #E2EBFA;\n",
              "      box-shadow: 0px 1px 2px rgba(60, 64, 67, 0.3), 0px 1px 3px 1px rgba(60, 64, 67, 0.15);\n",
              "      fill: #174EA6;\n",
              "    }\n",
              "\n",
              "    .colab-df-buttons div {\n",
              "      margin-bottom: 4px;\n",
              "    }\n",
              "\n",
              "    [theme=dark] .colab-df-convert {\n",
              "      background-color: #3B4455;\n",
              "      fill: #D2E3FC;\n",
              "    }\n",
              "\n",
              "    [theme=dark] .colab-df-convert:hover {\n",
              "      background-color: #434B5C;\n",
              "      box-shadow: 0px 1px 3px 1px rgba(0, 0, 0, 0.15);\n",
              "      filter: drop-shadow(0px 1px 2px rgba(0, 0, 0, 0.3));\n",
              "      fill: #FFFFFF;\n",
              "    }\n",
              "  </style>\n",
              "\n",
              "    <script>\n",
              "      const buttonEl =\n",
              "        document.querySelector('#df-90139dcd-aba2-4bba-91e6-c703702effdd button.colab-df-convert');\n",
              "      buttonEl.style.display =\n",
              "        google.colab.kernel.accessAllowed ? 'block' : 'none';\n",
              "\n",
              "      async function convertToInteractive(key) {\n",
              "        const element = document.querySelector('#df-90139dcd-aba2-4bba-91e6-c703702effdd');\n",
              "        const dataTable =\n",
              "          await google.colab.kernel.invokeFunction('convertToInteractive',\n",
              "                                                    [key], {});\n",
              "        if (!dataTable) return;\n",
              "\n",
              "        const docLinkHtml = 'Like what you see? Visit the ' +\n",
              "          '<a target=\"_blank\" href=https://colab.research.google.com/notebooks/data_table.ipynb>data table notebook</a>'\n",
              "          + ' to learn more about interactive tables.';\n",
              "        element.innerHTML = '';\n",
              "        dataTable['output_type'] = 'display_data';\n",
              "        await google.colab.output.renderOutput(dataTable, element);\n",
              "        const docLink = document.createElement('div');\n",
              "        docLink.innerHTML = docLinkHtml;\n",
              "        element.appendChild(docLink);\n",
              "      }\n",
              "    </script>\n",
              "  </div>\n",
              "\n",
              "\n",
              "<div id=\"df-a8bc0389-f622-43c5-8d65-852f689ec852\">\n",
              "  <button class=\"colab-df-quickchart\" onclick=\"quickchart('df-a8bc0389-f622-43c5-8d65-852f689ec852')\"\n",
              "            title=\"Suggest charts\"\n",
              "            style=\"display:none;\">\n",
              "\n",
              "<svg xmlns=\"http://www.w3.org/2000/svg\" height=\"24px\"viewBox=\"0 0 24 24\"\n",
              "     width=\"24px\">\n",
              "    <g>\n",
              "        <path d=\"M19 3H5c-1.1 0-2 .9-2 2v14c0 1.1.9 2 2 2h14c1.1 0 2-.9 2-2V5c0-1.1-.9-2-2-2zM9 17H7v-7h2v7zm4 0h-2V7h2v10zm4 0h-2v-4h2v4z\"/>\n",
              "    </g>\n",
              "</svg>\n",
              "  </button>\n",
              "\n",
              "<style>\n",
              "  .colab-df-quickchart {\n",
              "      --bg-color: #E8F0FE;\n",
              "      --fill-color: #1967D2;\n",
              "      --hover-bg-color: #E2EBFA;\n",
              "      --hover-fill-color: #174EA6;\n",
              "      --disabled-fill-color: #AAA;\n",
              "      --disabled-bg-color: #DDD;\n",
              "  }\n",
              "\n",
              "  [theme=dark] .colab-df-quickchart {\n",
              "      --bg-color: #3B4455;\n",
              "      --fill-color: #D2E3FC;\n",
              "      --hover-bg-color: #434B5C;\n",
              "      --hover-fill-color: #FFFFFF;\n",
              "      --disabled-bg-color: #3B4455;\n",
              "      --disabled-fill-color: #666;\n",
              "  }\n",
              "\n",
              "  .colab-df-quickchart {\n",
              "    background-color: var(--bg-color);\n",
              "    border: none;\n",
              "    border-radius: 50%;\n",
              "    cursor: pointer;\n",
              "    display: none;\n",
              "    fill: var(--fill-color);\n",
              "    height: 32px;\n",
              "    padding: 0;\n",
              "    width: 32px;\n",
              "  }\n",
              "\n",
              "  .colab-df-quickchart:hover {\n",
              "    background-color: var(--hover-bg-color);\n",
              "    box-shadow: 0 1px 2px rgba(60, 64, 67, 0.3), 0 1px 3px 1px rgba(60, 64, 67, 0.15);\n",
              "    fill: var(--button-hover-fill-color);\n",
              "  }\n",
              "\n",
              "  .colab-df-quickchart-complete:disabled,\n",
              "  .colab-df-quickchart-complete:disabled:hover {\n",
              "    background-color: var(--disabled-bg-color);\n",
              "    fill: var(--disabled-fill-color);\n",
              "    box-shadow: none;\n",
              "  }\n",
              "\n",
              "  .colab-df-spinner {\n",
              "    border: 2px solid var(--fill-color);\n",
              "    border-color: transparent;\n",
              "    border-bottom-color: var(--fill-color);\n",
              "    animation:\n",
              "      spin 1s steps(1) infinite;\n",
              "  }\n",
              "\n",
              "  @keyframes spin {\n",
              "    0% {\n",
              "      border-color: transparent;\n",
              "      border-bottom-color: var(--fill-color);\n",
              "      border-left-color: var(--fill-color);\n",
              "    }\n",
              "    20% {\n",
              "      border-color: transparent;\n",
              "      border-left-color: var(--fill-color);\n",
              "      border-top-color: var(--fill-color);\n",
              "    }\n",
              "    30% {\n",
              "      border-color: transparent;\n",
              "      border-left-color: var(--fill-color);\n",
              "      border-top-color: var(--fill-color);\n",
              "      border-right-color: var(--fill-color);\n",
              "    }\n",
              "    40% {\n",
              "      border-color: transparent;\n",
              "      border-right-color: var(--fill-color);\n",
              "      border-top-color: var(--fill-color);\n",
              "    }\n",
              "    60% {\n",
              "      border-color: transparent;\n",
              "      border-right-color: var(--fill-color);\n",
              "    }\n",
              "    80% {\n",
              "      border-color: transparent;\n",
              "      border-right-color: var(--fill-color);\n",
              "      border-bottom-color: var(--fill-color);\n",
              "    }\n",
              "    90% {\n",
              "      border-color: transparent;\n",
              "      border-bottom-color: var(--fill-color);\n",
              "    }\n",
              "  }\n",
              "</style>\n",
              "\n",
              "  <script>\n",
              "    async function quickchart(key) {\n",
              "      const quickchartButtonEl =\n",
              "        document.querySelector('#' + key + ' button');\n",
              "      quickchartButtonEl.disabled = true;  // To prevent multiple clicks.\n",
              "      quickchartButtonEl.classList.add('colab-df-spinner');\n",
              "      try {\n",
              "        const charts = await google.colab.kernel.invokeFunction(\n",
              "            'suggestCharts', [key], {});\n",
              "      } catch (error) {\n",
              "        console.error('Error during call to suggestCharts:', error);\n",
              "      }\n",
              "      quickchartButtonEl.classList.remove('colab-df-spinner');\n",
              "      quickchartButtonEl.classList.add('colab-df-quickchart-complete');\n",
              "    }\n",
              "    (() => {\n",
              "      let quickchartButtonEl =\n",
              "        document.querySelector('#df-a8bc0389-f622-43c5-8d65-852f689ec852 button');\n",
              "      quickchartButtonEl.style.display =\n",
              "        google.colab.kernel.accessAllowed ? 'block' : 'none';\n",
              "    })();\n",
              "  </script>\n",
              "</div>\n",
              "    </div>\n",
              "  </div>\n"
            ],
            "application/vnd.google.colaboratory.intrinsic+json": {
              "type": "dataframe",
              "variable_name": "data",
              "summary": "{\n  \"name\": \"data\",\n  \"rows\": 2566,\n  \"fields\": [\n    {\n      \"column\": \"Date\",\n      \"properties\": {\n        \"dtype\": \"date\",\n        \"min\": \"2014-01-02 00:00:00\",\n        \"max\": \"2024-03-13 00:00:00\",\n        \"num_unique_values\": 2566,\n        \"samples\": [\n          \"2017-11-10 00:00:00\",\n          \"2022-04-06 00:00:00\",\n          \"2019-02-05 00:00:00\"\n        ],\n        \"semantic_type\": \"\",\n        \"description\": \"\"\n      }\n    },\n    {\n      \"column\": \"Open\",\n      \"properties\": {\n        \"dtype\": \"number\",\n        \"std\": 106.43740683332014,\n        \"min\": 34.72999954223633,\n        \"max\": 420.55999755859375,\n        \"num_unique_values\": 2379,\n        \"samples\": [\n          107.5,\n          67.4800033569336,\n          111.66999816894531\n        ],\n        \"semantic_type\": \"\",\n        \"description\": \"\"\n      }\n    },\n    {\n      \"column\": \"High\",\n      \"properties\": {\n        \"dtype\": \"number\",\n        \"std\": 107.49544177059232,\n        \"min\": 35.880001068115234,\n        \"max\": 420.82000732421875,\n        \"num_unique_values\": 2348,\n        \"samples\": [\n          147.10000610351562,\n          65.19999694824219,\n          250.36000061035156\n        ],\n        \"semantic_type\": \"\",\n        \"description\": \"\"\n      }\n    },\n    {\n      \"column\": \"Low\",\n      \"properties\": {\n        \"dtype\": \"number\",\n        \"std\": 105.33754069893241,\n        \"min\": 34.630001068115234,\n        \"max\": 415.0899963378906,\n        \"num_unique_values\": 2360,\n        \"samples\": [\n          62.41999816894531,\n          51.77000045776367,\n          327.5199890136719\n        ],\n        \"semantic_type\": \"\",\n        \"description\": \"\"\n      }\n    },\n    {\n      \"column\": \"Close\",\n      \"properties\": {\n        \"dtype\": \"number\",\n        \"std\": 106.47674468887878,\n        \"min\": 34.97999954223633,\n        \"max\": 420.54998779296875,\n        \"num_unique_values\": 2366,\n        \"samples\": [\n          107.13999938964844,\n          251.86000061035156,\n          65.70999908447266\n        ],\n        \"semantic_type\": \"\",\n        \"description\": \"\"\n      }\n    },\n    {\n      \"column\": \"Adj Close\",\n      \"properties\": {\n        \"dtype\": \"number\",\n        \"std\": 107.37438578589222,\n        \"min\": 29.400775909423828,\n        \"max\": 419.7737121582031,\n        \"num_unique_values\": 2481,\n        \"samples\": [\n          36.837650299072266,\n          52.233272552490234,\n          231.0328369140625\n        ],\n        \"semantic_type\": \"\",\n        \"description\": \"\"\n      }\n    },\n    {\n      \"column\": \"Volume\",\n      \"properties\": {\n        \"dtype\": \"number\",\n        \"std\": 13831788,\n        \"min\": 7425600,\n        \"max\": 202522400,\n        \"num_unique_values\": 2556,\n        \"samples\": [\n          29853900,\n          27000600,\n          34627500\n        ],\n        \"semantic_type\": \"\",\n        \"description\": \"\"\n      }\n    }\n  ]\n}"
            }
          },
          "metadata": {},
          "execution_count": 99
        }
      ],
      "source": [
        "data.head()"
      ]
    },
    {
      "cell_type": "code",
      "execution_count": 100,
      "id": "fc840124-ef3e-40b0-9e74-aa5a174c4c50",
      "metadata": {
        "colab": {
          "base_uri": "https://localhost:8080/",
          "height": 562
        },
        "id": "fc840124-ef3e-40b0-9e74-aa5a174c4c50",
        "outputId": "5aa12ef8-24d8-4912-eebd-a26ded57e026"
      },
      "outputs": [
        {
          "output_type": "execute_result",
          "data": {
            "text/plain": [
              "Text(0.5, 1.0, 'Graph Of Moving Averages Of 100 Days')"
            ]
          },
          "metadata": {},
          "execution_count": 100
        },
        {
          "output_type": "display_data",
          "data": {
            "text/plain": [
              "<Figure size 1200x600 with 1 Axes>"
            ],
            "image/png": "[encoded data removed]"
          },
          "metadata": {}
        }
      ],
      "source": [
        "ma100 = data.Close.rolling(100).mean()\n",
        "plt.figure(figsize = (12,6))\n",
        "plt.plot(data.Close)\n",
        "plt.plot(ma100, 'r')\n",
        "plt.title('Graph Of Moving Averages Of 100 Days')"
      ]
    },
    {
      "cell_type": "code",
      "execution_count": 101,
      "id": "97a1b79b-2302-43d7-883a-a0a255c864bf",
      "metadata": {
        "colab": {
          "base_uri": "https://localhost:8080/",
          "height": 562
        },
        "id": "97a1b79b-2302-43d7-883a-a0a255c864bf",
        "outputId": "843a797f-dc1c-464e-d57b-f78fa24b88f7"
      },
      "outputs": [
        {
          "output_type": "execute_result",
          "data": {
            "text/plain": [
              "Text(0.5, 1.0, 'Comparison Of 100 Days And 200 Days Moving Averages')"
            ]
          },
          "metadata": {},
          "execution_count": 101
        },
        {
          "output_type": "display_data",
          "data": {
            "text/plain": [
              "<Figure size 1200x600 with 1 Axes>"
            ],
            "image/png": "[encoded data removed]"
          },
          "metadata": {}
        }
      ],
      "source": [
        "ma200 = data.Close.rolling(200).mean()\n",
        "plt.figure(figsize = (12,6))\n",
        "plt.plot(data.Close)\n",
        "plt.plot(ma100, 'r')\n",
        "plt.plot(ma200, 'g')\n",
        "plt.title('Comparison Of 100 Days And 200 Days Moving Averages')"
      ]
    },
    {
      "cell_type": "code",
      "execution_count": 102,
      "id": "0ac073de-1a30-487c-a1f8-c809cbba06db",
      "metadata": {
        "id": "0ac073de-1a30-487c-a1f8-c809cbba06db"
      },
      "outputs": [],
      "source": [
        "data.dropna(inplace=True)"
      ]
    },
    {
      "cell_type": "code",
      "execution_count": 103,
      "id": "64246466-177b-46f9-b4eb-6ee5005bfd6b",
      "metadata": {
        "id": "64246466-177b-46f9-b4eb-6ee5005bfd6b",
        "colab": {
          "base_uri": "https://localhost:8080/"
        },
        "outputId": "7527e1d4-3d26-4f1b-8752-45a7a167a6be"
      },
      "outputs": [
        {
          "output_type": "stream",
          "name": "stdout",
          "text": [
            "(1796, 7)\n"
          ]
        }
      ],
      "source": [
        "train = pd.DataFrame(data[0:int(len(data)*0.70)])\n",
        "test = pd.DataFrame(data[int(len(data)*0.70): int(len(data))])\n",
        "\n",
        "print(train.shape)"
      ]
    },
    {
      "cell_type": "code",
      "execution_count": 104,
      "id": "0f4c0b4b-2b5e-4f62-bd84-47a86ed3da3e",
      "metadata": {
        "colab": {
          "base_uri": "https://localhost:8080/"
        },
        "id": "0f4c0b4b-2b5e-4f62-bd84-47a86ed3da3e",
        "outputId": "ecc43ffc-b2c2-4ba5-ee5e-2b1d2683a68e"
      },
      "outputs": [
        {
          "output_type": "stream",
          "name": "stdout",
          "text": [
            "(770, 7)\n"
          ]
        }
      ],
      "source": [
        "print(test.shape)"
      ]
    },
    {
      "cell_type": "code",
      "execution_count": 105,
      "id": "0a609554-633d-4edf-abc1-21bd874a3cd1",
      "metadata": {
        "colab": {
          "base_uri": "https://localhost:8080/",
          "height": 206
        },
        "id": "0a609554-633d-4edf-abc1-21bd874a3cd1",
        "outputId": "5d5dddef-e27b-4fb0-dd45-6f223fb8204e"
      },
      "outputs": [
        {
          "output_type": "execute_result",
          "data": {
            "text/plain": [
              "        Date       Open       High        Low      Close  Adj Close    Volume\n",
              "0 2014-01-02  37.349998  37.400002  37.099998  37.160000  31.233059  30632200\n",
              "1 2014-01-03  37.200001  37.220001  36.599998  36.910000  31.022932  31134800\n",
              "2 2014-01-06  36.849998  36.889999  36.110001  36.130001  30.367344  43603700\n",
              "3 2014-01-07  36.330002  36.490002  36.209999  36.410000  30.602690  35802800\n",
              "4 2014-01-08  36.000000  36.139999  35.580002  35.759998  30.056364  59971700"
            ],
            "text/html": [
              "\n",
              "  <div id=\"df-f8067134-772a-473b-8dc4-f0dfb5401204\" class=\"colab-df-container\">\n",
              "    <div>\n",
              "<style scoped>\n",
              "    .dataframe tbody tr th:only-of-type {\n",
              "        vertical-align: middle;\n",
              "    }\n",
              "\n",
              "    .dataframe tbody tr th {\n",
              "        vertical-align: top;\n",
              "    }\n",
              "\n",
              "    .dataframe thead th {\n",
              "        text-align: right;\n",
              "    }\n",
              "</style>\n",
              "<table border=\"1\" class=\"dataframe\">\n",
              "  <thead>\n",
              "    <tr style=\"text-align: right;\">\n",
              "      <th></th>\n",
              "      <th>Date</th>\n",
              "      <th>Open</th>\n",
              "      <th>High</th>\n",
              "      <th>Low</th>\n",
              "      <th>Close</th>\n",
              "      <th>Adj Close</th>\n",
              "      <th>Volume</th>\n",
              "    </tr>\n",
              "  </thead>\n",
              "  <tbody>\n",
              "    <tr>\n",
              "      <th>0</th>\n",
              "      <td>2014-01-02</td>\n",
              "      <td>37.349998</td>\n",
              "      <td>37.400002</td>\n",
              "      <td>37.099998</td>\n",
              "      <td>37.160000</td>\n",
              "      <td>31.233059</td>\n",
              "      <td>30632200</td>\n",
              "    </tr>\n",
              "    <tr>\n",
              "      <th>1</th>\n",
              "      <td>2014-01-03</td>\n",
              "      <td>37.200001</td>\n",
              "      <td>37.220001</td>\n",
              "      <td>36.599998</td>\n",
              "      <td>36.910000</td>\n",
              "      <td>31.022932</td>\n",
              "      <td>31134800</td>\n",
              "    </tr>\n",
              "    <tr>\n",
              "      <th>2</th>\n",
              "      <td>2014-01-06</td>\n",
              "      <td>36.849998</td>\n",
              "      <td>36.889999</td>\n",
              "      <td>36.110001</td>\n",
              "      <td>36.130001</td>\n",
              "      <td>30.367344</td>\n",
              "      <td>43603700</td>\n",
              "    </tr>\n",
              "    <tr>\n",
              "      <th>3</th>\n",
              "      <td>2014-01-07</td>\n",
              "      <td>36.330002</td>\n",
              "      <td>36.490002</td>\n",
              "      <td>36.209999</td>\n",
              "      <td>36.410000</td>\n",
              "      <td>30.602690</td>\n",
              "      <td>35802800</td>\n",
              "    </tr>\n",
              "    <tr>\n",
              "      <th>4</th>\n",
              "      <td>2014-01-08</td>\n",
              "      <td>36.000000</td>\n",
              "      <td>36.139999</td>\n",
              "      <td>35.580002</td>\n",
              "      <td>35.759998</td>\n",
              "      <td>30.056364</td>\n",
              "      <td>59971700</td>\n",
              "    </tr>\n",
              "  </tbody>\n",
              "</table>\n",
              "</div>\n",
              "    <div class=\"colab-df-buttons\">\n",
              "\n",
              "  <div class=\"colab-df-container\">\n",
              "    <button class=\"colab-df-convert\" onclick=\"convertToInteractive('df-f8067134-772a-473b-8dc4-f0dfb5401204')\"\n",
              "            title=\"Convert this dataframe to an interactive table.\"\n",
              "            style=\"display:none;\">\n",
              "\n",
              "  <svg xmlns=\"http://www.w3.org/2000/svg\" height=\"24px\" viewBox=\"0 -960 960 960\">\n",
              "    <path d=\"M120-120v-720h720v720H120Zm60-500h600v-160H180v160Zm220 220h160v-160H400v160Zm0 220h160v-160H400v160ZM180-400h160v-160H180v160Zm440 0h160v-160H620v160ZM180-180h160v-160H180v160Zm440 0h160v-160H620v160Z\"/>\n",
              "  </svg>\n",
              "    </button>\n",
              "\n",
              "  <style>\n",
              "    .colab-df-container {\n",
              "      display:flex;\n",
              "      gap: 12px;\n",
              "    }\n",
              "\n",
              "    .colab-df-convert {\n",
              "      background-color: #E8F0FE;\n",
              "      border: none;\n",
              "      border-radius: 50%;\n",
              "      cursor: pointer;\n",
              "      display: none;\n",
              "      fill: #1967D2;\n",
              "      height: 32px;\n",
              "      padding: 0 0 0 0;\n",
              "      width: 32px;\n",
              "    }\n",
              "\n",
              "    .colab-df-convert:hover {\n",
              "      background-color: #E2EBFA;\n",
              "      box-shadow: 0px 1px 2px rgba(60, 64, 67, 0.3), 0px 1px 3px 1px rgba(60, 64, 67, 0.15);\n",
              "      fill: #174EA6;\n",
              "    }\n",
              "\n",
              "    .colab-df-buttons div {\n",
              "      margin-bottom: 4px;\n",
              "    }\n",
              "\n",
              "    [theme=dark] .colab-df-convert {\n",
              "      background-color: #3B4455;\n",
              "      fill: #D2E3FC;\n",
              "    }\n",
              "\n",
              "    [theme=dark] .colab-df-convert:hover {\n",
              "      background-color: #434B5C;\n",
              "      box-shadow: 0px 1px 3px 1px rgba(0, 0, 0, 0.15);\n",
              "      filter: drop-shadow(0px 1px 2px rgba(0, 0, 0, 0.3));\n",
              "      fill: #FFFFFF;\n",
              "    }\n",
              "  </style>\n",
              "\n",
              "    <script>\n",
              "      const buttonEl =\n",
              "        document.querySelector('#df-f8067134-772a-473b-8dc4-f0dfb5401204 button.colab-df-convert');\n",
              "      buttonEl.style.display =\n",
              "        google.colab.kernel.accessAllowed ? 'block' : 'none';\n",
              "\n",
              "      async function convertToInteractive(key) {\n",
              "        const element = document.querySelector('#df-f8067134-772a-473b-8dc4-f0dfb5401204');\n",
              "        const dataTable =\n",
              "          await google.colab.kernel.invokeFunction('convertToInteractive',\n",
              "                                                    [key], {});\n",
              "        if (!dataTable) return;\n",
              "\n",
              "        const docLinkHtml = 'Like what you see? Visit the ' +\n",
              "          '<a target=\"_blank\" href=https://colab.research.google.com/notebooks/data_table.ipynb>data table notebook</a>'\n",
              "          + ' to learn more about interactive tables.';\n",
              "        element.innerHTML = '';\n",
              "        dataTable['output_type'] = 'display_data';\n",
              "        await google.colab.output.renderOutput(dataTable, element);\n",
              "        const docLink = document.createElement('div');\n",
              "        docLink.innerHTML = docLinkHtml;\n",
              "        element.appendChild(docLink);\n",
              "      }\n",
              "    </script>\n",
              "  </div>\n",
              "\n",
              "\n",
              "<div id=\"df-a632ffa8-f33f-434e-bbe4-43fb4774e55c\">\n",
              "  <button class=\"colab-df-quickchart\" onclick=\"quickchart('df-a632ffa8-f33f-434e-bbe4-43fb4774e55c')\"\n",
              "            title=\"Suggest charts\"\n",
              "            style=\"display:none;\">\n",
              "\n",
              "<svg xmlns=\"http://www.w3.org/2000/svg\" height=\"24px\"viewBox=\"0 0 24 24\"\n",
              "     width=\"24px\">\n",
              "    <g>\n",
              "        <path d=\"M19 3H5c-1.1 0-2 .9-2 2v14c0 1.1.9 2 2 2h14c1.1 0 2-.9 2-2V5c0-1.1-.9-2-2-2zM9 17H7v-7h2v7zm4 0h-2V7h2v10zm4 0h-2v-4h2v4z\"/>\n",
              "    </g>\n",
              "</svg>\n",
              "  </button>\n",
              "\n",
              "<style>\n",
              "  .colab-df-quickchart {\n",
              "      --bg-color: #E8F0FE;\n",
              "      --fill-color: #1967D2;\n",
              "      --hover-bg-color: #E2EBFA;\n",
              "      --hover-fill-color: #174EA6;\n",
              "      --disabled-fill-color: #AAA;\n",
              "      --disabled-bg-color: #DDD;\n",
              "  }\n",
              "\n",
              "  [theme=dark] .colab-df-quickchart {\n",
              "      --bg-color: #3B4455;\n",
              "      --fill-color: #D2E3FC;\n",
              "      --hover-bg-color: #434B5C;\n",
              "      --hover-fill-color: #FFFFFF;\n",
              "      --disabled-bg-color: #3B4455;\n",
              "      --disabled-fill-color: #666;\n",
              "  }\n",
              "\n",
              "  .colab-df-quickchart {\n",
              "    background-color: var(--bg-color);\n",
              "    border: none;\n",
              "    border-radius: 50%;\n",
              "    cursor: pointer;\n",
              "    display: none;\n",
              "    fill: var(--fill-color);\n",
              "    height: 32px;\n",
              "    padding: 0;\n",
              "    width: 32px;\n",
              "  }\n",
              "\n",
              "  .colab-df-quickchart:hover {\n",
              "    background-color: var(--hover-bg-color);\n",
              "    box-shadow: 0 1px 2px rgba(60, 64, 67, 0.3), 0 1px 3px 1px rgba(60, 64, 67, 0.15);\n",
              "    fill: var(--button-hover-fill-color);\n",
              "  }\n",
              "\n",
              "  .colab-df-quickchart-complete:disabled,\n",
              "  .colab-df-quickchart-complete:disabled:hover {\n",
              "    background-color: var(--disabled-bg-color);\n",
              "    fill: var(--disabled-fill-color);\n",
              "    box-shadow: none;\n",
              "  }\n",
              "\n",
              "  .colab-df-spinner {\n",
              "    border: 2px solid var(--fill-color);\n",
              "    border-color: transparent;\n",
              "    border-bottom-color: var(--fill-color);\n",
              "    animation:\n",
              "      spin 1s steps(1) infinite;\n",
              "  }\n",
              "\n",
              "  @keyframes spin {\n",
              "    0% {\n",
              "      border-color: transparent;\n",
              "      border-bottom-color: var(--fill-color);\n",
              "      border-left-color: var(--fill-color);\n",
              "    }\n",
              "    20% {\n",
              "      border-color: transparent;\n",
              "      border-left-color: var(--fill-color);\n",
              "      border-top-color: var(--fill-color);\n",
              "    }\n",
              "    30% {\n",
              "      border-color: transparent;\n",
              "      border-left-color: var(--fill-color);\n",
              "      border-top-color: var(--fill-color);\n",
              "      border-right-color: var(--fill-color);\n",
              "    }\n",
              "    40% {\n",
              "      border-color: transparent;\n",
              "      border-right-color: var(--fill-color);\n",
              "      border-top-color: var(--fill-color);\n",
              "    }\n",
              "    60% {\n",
              "      border-color: transparent;\n",
              "      border-right-color: var(--fill-color);\n",
              "    }\n",
              "    80% {\n",
              "      border-color: transparent;\n",
              "      border-right-color: var(--fill-color);\n",
              "      border-bottom-color: var(--fill-color);\n",
              "    }\n",
              "    90% {\n",
              "      border-color: transparent;\n",
              "      border-bottom-color: var(--fill-color);\n",
              "    }\n",
              "  }\n",
              "</style>\n",
              "\n",
              "  <script>\n",
              "    async function quickchart(key) {\n",
              "      const quickchartButtonEl =\n",
              "        document.querySelector('#' + key + ' button');\n",
              "      quickchartButtonEl.disabled = true;  // To prevent multiple clicks.\n",
              "      quickchartButtonEl.classList.add('colab-df-spinner');\n",
              "      try {\n",
              "        const charts = await google.colab.kernel.invokeFunction(\n",
              "            'suggestCharts', [key], {});\n",
              "      } catch (error) {\n",
              "        console.error('Error during call to suggestCharts:', error);\n",
              "      }\n",
              "      quickchartButtonEl.classList.remove('colab-df-spinner');\n",
              "      quickchartButtonEl.classList.add('colab-df-quickchart-complete');\n",
              "    }\n",
              "    (() => {\n",
              "      let quickchartButtonEl =\n",
              "        document.querySelector('#df-a632ffa8-f33f-434e-bbe4-43fb4774e55c button');\n",
              "      quickchartButtonEl.style.display =\n",
              "        google.colab.kernel.accessAllowed ? 'block' : 'none';\n",
              "    })();\n",
              "  </script>\n",
              "</div>\n",
              "    </div>\n",
              "  </div>\n"
            ],
            "application/vnd.google.colaboratory.intrinsic+json": {
              "type": "dataframe",
              "variable_name": "train",
              "summary": "{\n  \"name\": \"train\",\n  \"rows\": 1796,\n  \"fields\": [\n    {\n      \"column\": \"Date\",\n      \"properties\": {\n        \"dtype\": \"date\",\n        \"min\": \"2014-01-02 00:00:00\",\n        \"max\": \"2021-02-19 00:00:00\",\n        \"num_unique_values\": 1796,\n        \"samples\": [\n          \"2018-11-27 00:00:00\",\n          \"2014-11-14 00:00:00\",\n          \"2020-01-13 00:00:00\"\n        ],\n        \"semantic_type\": \"\",\n        \"description\": \"\"\n      }\n    },\n    {\n      \"column\": \"Open\",\n      \"properties\": {\n        \"dtype\": \"number\",\n        \"std\": 54.88642579261476,\n        \"min\": 34.72999954223633,\n        \"max\": 245.02999877929688,\n        \"num_unique_values\": 1627,\n        \"samples\": [\n          77.66999816894531,\n          120.0999984741211,\n          186.8000030517578\n        ],\n        \"semantic_type\": \"\",\n        \"description\": \"\"\n      }\n    },\n    {\n      \"column\": \"High\",\n      \"properties\": {\n        \"dtype\": \"number\",\n        \"std\": 55.5425070400708,\n        \"min\": 35.880001068115234,\n        \"max\": 246.1300048828125,\n        \"num_unique_values\": 1610,\n        \"samples\": [\n          37.75,\n          41.61000061035156,\n          65.22000122070312\n        ],\n        \"semantic_type\": \"\",\n        \"description\": \"\"\n      }\n    },\n    {\n      \"column\": \"Low\",\n      \"properties\": {\n        \"dtype\": \"number\",\n        \"std\": 54.198938721845366,\n        \"min\": 34.630001068115234,\n        \"max\": 242.9199981689453,\n        \"num_unique_values\": 1619,\n        \"samples\": [\n          43.52000045776367,\n          54.209999084472656,\n          210.36000061035156\n        ],\n        \"semantic_type\": \"\",\n        \"description\": \"\"\n      }\n    },\n    {\n      \"column\": \"Close\",\n      \"properties\": {\n        \"dtype\": \"number\",\n        \"std\": 54.903089031757425,\n        \"min\": 34.97999954223633,\n        \"max\": 244.99000549316406,\n        \"num_unique_values\": 1619,\n        \"samples\": [\n          43.58000183105469,\n          54.310001373291016,\n          211.8000030517578\n        ],\n        \"semantic_type\": \"\",\n        \"description\": \"\"\n      }\n    },\n    {\n      \"column\": \"Adj Close\",\n      \"properties\": {\n        \"dtype\": \"number\",\n        \"std\": 54.727736939623,\n        \"min\": 29.400775909423828,\n        \"max\": 238.14224243164062,\n        \"num_unique_values\": 1717,\n        \"samples\": [\n          46.025726318359375,\n          129.84201049804688,\n          35.603515625\n        ],\n        \"semantic_type\": \"\",\n        \"description\": \"\"\n      }\n    },\n    {\n      \"column\": \"Volume\",\n      \"properties\": {\n        \"dtype\": \"number\",\n        \"std\": 15034375,\n        \"min\": 7425600,\n        \"max\": 202522400,\n        \"num_unique_values\": 1794,\n        \"samples\": [\n          46788500,\n          29081700,\n          23477400\n        ],\n        \"semantic_type\": \"\",\n        \"description\": \"\"\n      }\n    }\n  ]\n}"
            }
          },
          "metadata": {},
          "execution_count": 105
        }
      ],
      "source": [
        "train.head()"
      ]
    },
    {
      "cell_type": "code",
      "source": [
        "test.head()"
      ],
      "metadata": {
        "colab": {
          "base_uri": "https://localhost:8080/",
          "height": 206
        },
        "id": "0ZF0N2UsT756",
        "outputId": "d2b22680-a287-42a5-f65f-0f2e93a31c16"
      },
      "id": "0ZF0N2UsT756",
      "execution_count": 106,
      "outputs": [
        {
          "output_type": "execute_result",
          "data": {
            "text/plain": [
              "           Date        Open        High         Low       Close   Adj Close  \\\n",
              "1796 2021-02-22  237.419998  237.929993  232.399994  234.509995  228.480194   \n",
              "1797 2021-02-23  230.330002  234.830002  228.729996  233.270004  227.272079   \n",
              "1798 2021-02-24  230.009995  235.199997  229.000000  234.550003  228.519165   \n",
              "1799 2021-02-25  232.080002  234.589996  227.880005  228.990005  223.102127   \n",
              "1800 2021-02-26  231.529999  235.369995  229.539993  232.380005  226.404953   \n",
              "\n",
              "        Volume  \n",
              "1796  36446900  \n",
              "1797  30228700  \n",
              "1798  26339700  \n",
              "1799  39542200  \n",
              "1800  37819200  "
            ],
            "text/html": [
              "\n",
              "  <div id=\"df-08fa9222-590e-4039-b004-7ebbaf13945e\" class=\"colab-df-container\">\n",
              "    <div>\n",
              "<style scoped>\n",
              "    .dataframe tbody tr th:only-of-type {\n",
              "        vertical-align: middle;\n",
              "    }\n",
              "\n",
              "    .dataframe tbody tr th {\n",
              "        vertical-align: top;\n",
              "    }\n",
              "\n",
              "    .dataframe thead th {\n",
              "        text-align: right;\n",
              "    }\n",
              "</style>\n",
              "<table border=\"1\" class=\"dataframe\">\n",
              "  <thead>\n",
              "    <tr style=\"text-align: right;\">\n",
              "      <th></th>\n",
              "      <th>Date</th>\n",
              "      <th>Open</th>\n",
              "      <th>High</th>\n",
              "      <th>Low</th>\n",
              "      <th>Close</th>\n",
              "      <th>Adj Close</th>\n",
              "      <th>Volume</th>\n",
              "    </tr>\n",
              "  </thead>\n",
              "  <tbody>\n",
              "    <tr>\n",
              "      <th>1796</th>\n",
              "      <td>2021-02-22</td>\n",
              "      <td>237.419998</td>\n",
              "      <td>237.929993</td>\n",
              "      <td>232.399994</td>\n",
              "      <td>234.509995</td>\n",
              "      <td>228.480194</td>\n",
              "      <td>36446900</td>\n",
              "    </tr>\n",
              "    <tr>\n",
              "      <th>1797</th>\n",
              "      <td>2021-02-23</td>\n",
              "      <td>230.330002</td>\n",
              "      <td>234.830002</td>\n",
              "      <td>228.729996</td>\n",
              "      <td>233.270004</td>\n",
              "      <td>227.272079</td>\n",
              "      <td>30228700</td>\n",
              "    </tr>\n",
              "    <tr>\n",
              "      <th>1798</th>\n",
              "      <td>2021-02-24</td>\n",
              "      <td>230.009995</td>\n",
              "      <td>235.199997</td>\n",
              "      <td>229.000000</td>\n",
              "      <td>234.550003</td>\n",
              "      <td>228.519165</td>\n",
              "      <td>26339700</td>\n",
              "    </tr>\n",
              "    <tr>\n",
              "      <th>1799</th>\n",
              "      <td>2021-02-25</td>\n",
              "      <td>232.080002</td>\n",
              "      <td>234.589996</td>\n",
              "      <td>227.880005</td>\n",
              "      <td>228.990005</td>\n",
              "      <td>223.102127</td>\n",
              "      <td>39542200</td>\n",
              "    </tr>\n",
              "    <tr>\n",
              "      <th>1800</th>\n",
              "      <td>2021-02-26</td>\n",
              "      <td>231.529999</td>\n",
              "      <td>235.369995</td>\n",
              "      <td>229.539993</td>\n",
              "      <td>232.380005</td>\n",
              "      <td>226.404953</td>\n",
              "      <td>37819200</td>\n",
              "    </tr>\n",
              "  </tbody>\n",
              "</table>\n",
              "</div>\n",
              "    <div class=\"colab-df-buttons\">\n",
              "\n",
              "  <div class=\"colab-df-container\">\n",
              "    <button class=\"colab-df-convert\" onclick=\"convertToInteractive('df-08fa9222-590e-4039-b004-7ebbaf13945e')\"\n",
              "            title=\"Convert this dataframe to an interactive table.\"\n",
              "            style=\"display:none;\">\n",
              "\n",
              "  <svg xmlns=\"http://www.w3.org/2000/svg\" height=\"24px\" viewBox=\"0 -960 960 960\">\n",
              "    <path d=\"M120-120v-720h720v720H120Zm60-500h600v-160H180v160Zm220 220h160v-160H400v160Zm0 220h160v-160H400v160ZM180-400h160v-160H180v160Zm440 0h160v-160H620v160ZM180-180h160v-160H180v160Zm440 0h160v-160H620v160Z\"/>\n",
              "  </svg>\n",
              "    </button>\n",
              "\n",
              "  <style>\n",
              "    .colab-df-container {\n",
              "      display:flex;\n",
              "      gap: 12px;\n",
              "    }\n",
              "\n",
              "    .colab-df-convert {\n",
              "      background-color: #E8F0FE;\n",
              "      border: none;\n",
              "      border-radius: 50%;\n",
              "      cursor: pointer;\n",
              "      display: none;\n",
              "      fill: #1967D2;\n",
              "      height: 32px;\n",
              "      padding: 0 0 0 0;\n",
              "      width: 32px;\n",
              "    }\n",
              "\n",
              "    .colab-df-convert:hover {\n",
              "      background-color: #E2EBFA;\n",
              "      box-shadow: 0px 1px 2px rgba(60, 64, 67, 0.3), 0px 1px 3px 1px rgba(60, 64, 67, 0.15);\n",
              "      fill: #174EA6;\n",
              "    }\n",
              "\n",
              "    .colab-df-buttons div {\n",
              "      margin-bottom: 4px;\n",
              "    }\n",
              "\n",
              "    [theme=dark] .colab-df-convert {\n",
              "      background-color: #3B4455;\n",
              "      fill: #D2E3FC;\n",
              "    }\n",
              "\n",
              "    [theme=dark] .colab-df-convert:hover {\n",
              "      background-color: #434B5C;\n",
              "      box-shadow: 0px 1px 3px 1px rgba(0, 0, 0, 0.15);\n",
              "      filter: drop-shadow(0px 1px 2px rgba(0, 0, 0, 0.3));\n",
              "      fill: #FFFFFF;\n",
              "    }\n",
              "  </style>\n",
              "\n",
              "    <script>\n",
              "      const buttonEl =\n",
              "        document.querySelector('#df-08fa9222-590e-4039-b004-7ebbaf13945e button.colab-df-convert');\n",
              "      buttonEl.style.display =\n",
              "        google.colab.kernel.accessAllowed ? 'block' : 'none';\n",
              "\n",
              "      async function convertToInteractive(key) {\n",
              "        const element = document.querySelector('#df-08fa9222-590e-4039-b004-7ebbaf13945e');\n",
              "        const dataTable =\n",
              "          await google.colab.kernel.invokeFunction('convertToInteractive',\n",
              "                                                    [key], {});\n",
              "        if (!dataTable) return;\n",
              "\n",
              "        const docLinkHtml = 'Like what you see? Visit the ' +\n",
              "          '<a target=\"_blank\" href=https://colab.research.google.com/notebooks/data_table.ipynb>data table notebook</a>'\n",
              "          + ' to learn more about interactive tables.';\n",
              "        element.innerHTML = '';\n",
              "        dataTable['output_type'] = 'display_data';\n",
              "        await google.colab.output.renderOutput(dataTable, element);\n",
              "        const docLink = document.createElement('div');\n",
              "        docLink.innerHTML = docLinkHtml;\n",
              "        element.appendChild(docLink);\n",
              "      }\n",
              "    </script>\n",
              "  </div>\n",
              "\n",
              "\n",
              "<div id=\"df-90787ff2-3eb8-4140-8256-48cd196dc3b5\">\n",
              "  <button class=\"colab-df-quickchart\" onclick=\"quickchart('df-90787ff2-3eb8-4140-8256-48cd196dc3b5')\"\n",
              "            title=\"Suggest charts\"\n",
              "            style=\"display:none;\">\n",
              "\n",
              "<svg xmlns=\"http://www.w3.org/2000/svg\" height=\"24px\"viewBox=\"0 0 24 24\"\n",
              "     width=\"24px\">\n",
              "    <g>\n",
              "        <path d=\"M19 3H5c-1.1 0-2 .9-2 2v14c0 1.1.9 2 2 2h14c1.1 0 2-.9 2-2V5c0-1.1-.9-2-2-2zM9 17H7v-7h2v7zm4 0h-2V7h2v10zm4 0h-2v-4h2v4z\"/>\n",
              "    </g>\n",
              "</svg>\n",
              "  </button>\n",
              "\n",
              "<style>\n",
              "  .colab-df-quickchart {\n",
              "      --bg-color: #E8F0FE;\n",
              "      --fill-color: #1967D2;\n",
              "      --hover-bg-color: #E2EBFA;\n",
              "      --hover-fill-color: #174EA6;\n",
              "      --disabled-fill-color: #AAA;\n",
              "      --disabled-bg-color: #DDD;\n",
              "  }\n",
              "\n",
              "  [theme=dark] .colab-df-quickchart {\n",
              "      --bg-color: #3B4455;\n",
              "      --fill-color: #D2E3FC;\n",
              "      --hover-bg-color: #434B5C;\n",
              "      --hover-fill-color: #FFFFFF;\n",
              "      --disabled-bg-color: #3B4455;\n",
              "      --disabled-fill-color: #666;\n",
              "  }\n",
              "\n",
              "  .colab-df-quickchart {\n",
              "    background-color: var(--bg-color);\n",
              "    border: none;\n",
              "    border-radius: 50%;\n",
              "    cursor: pointer;\n",
              "    display: none;\n",
              "    fill: var(--fill-color);\n",
              "    height: 32px;\n",
              "    padding: 0;\n",
              "    width: 32px;\n",
              "  }\n",
              "\n",
              "  .colab-df-quickchart:hover {\n",
              "    background-color: var(--hover-bg-color);\n",
              "    box-shadow: 0 1px 2px rgba(60, 64, 67, 0.3), 0 1px 3px 1px rgba(60, 64, 67, 0.15);\n",
              "    fill: var(--button-hover-fill-color);\n",
              "  }\n",
              "\n",
              "  .colab-df-quickchart-complete:disabled,\n",
              "  .colab-df-quickchart-complete:disabled:hover {\n",
              "    background-color: var(--disabled-bg-color);\n",
              "    fill: var(--disabled-fill-color);\n",
              "    box-shadow: none;\n",
              "  }\n",
              "\n",
              "  .colab-df-spinner {\n",
              "    border: 2px solid var(--fill-color);\n",
              "    border-color: transparent;\n",
              "    border-bottom-color: var(--fill-color);\n",
              "    animation:\n",
              "      spin 1s steps(1) infinite;\n",
              "  }\n",
              "\n",
              "  @keyframes spin {\n",
              "    0% {\n",
              "      border-color: transparent;\n",
              "      border-bottom-color: var(--fill-color);\n",
              "      border-left-color: var(--fill-color);\n",
              "    }\n",
              "    20% {\n",
              "      border-color: transparent;\n",
              "      border-left-color: var(--fill-color);\n",
              "      border-top-color: var(--fill-color);\n",
              "    }\n",
              "    30% {\n",
              "      border-color: transparent;\n",
              "      border-left-color: var(--fill-color);\n",
              "      border-top-color: var(--fill-color);\n",
              "      border-right-color: var(--fill-color);\n",
              "    }\n",
              "    40% {\n",
              "      border-color: transparent;\n",
              "      border-right-color: var(--fill-color);\n",
              "      border-top-color: var(--fill-color);\n",
              "    }\n",
              "    60% {\n",
              "      border-color: transparent;\n",
              "      border-right-color: var(--fill-color);\n",
              "    }\n",
              "    80% {\n",
              "      border-color: transparent;\n",
              "      border-right-color: var(--fill-color);\n",
              "      border-bottom-color: var(--fill-color);\n",
              "    }\n",
              "    90% {\n",
              "      border-color: transparent;\n",
              "      border-bottom-color: var(--fill-color);\n",
              "    }\n",
              "  }\n",
              "</style>\n",
              "\n",
              "  <script>\n",
              "    async function quickchart(key) {\n",
              "      const quickchartButtonEl =\n",
              "        document.querySelector('#' + key + ' button');\n",
              "      quickchartButtonEl.disabled = true;  // To prevent multiple clicks.\n",
              "      quickchartButtonEl.classList.add('colab-df-spinner');\n",
              "      try {\n",
              "        const charts = await google.colab.kernel.invokeFunction(\n",
              "            'suggestCharts', [key], {});\n",
              "      } catch (error) {\n",
              "        console.error('Error during call to suggestCharts:', error);\n",
              "      }\n",
              "      quickchartButtonEl.classList.remove('colab-df-spinner');\n",
              "      quickchartButtonEl.classList.add('colab-df-quickchart-complete');\n",
              "    }\n",
              "    (() => {\n",
              "      let quickchartButtonEl =\n",
              "        document.querySelector('#df-90787ff2-3eb8-4140-8256-48cd196dc3b5 button');\n",
              "      quickchartButtonEl.style.display =\n",
              "        google.colab.kernel.accessAllowed ? 'block' : 'none';\n",
              "    })();\n",
              "  </script>\n",
              "</div>\n",
              "    </div>\n",
              "  </div>\n"
            ],
            "application/vnd.google.colaboratory.intrinsic+json": {
              "type": "dataframe",
              "variable_name": "test",
              "summary": "{\n  \"name\": \"test\",\n  \"rows\": 770,\n  \"fields\": [\n    {\n      \"column\": \"Date\",\n      \"properties\": {\n        \"dtype\": \"date\",\n        \"min\": \"2021-02-22 00:00:00\",\n        \"max\": \"2024-03-13 00:00:00\",\n        \"num_unique_values\": 770,\n        \"samples\": [\n          \"2023-10-19 00:00:00\",\n          \"2024-02-20 00:00:00\",\n          \"2024-01-11 00:00:00\"\n        ],\n        \"semantic_type\": \"\",\n        \"description\": \"\"\n      }\n    },\n    {\n      \"column\": \"Open\",\n      \"properties\": {\n        \"dtype\": \"number\",\n        \"std\": 47.11444093971764,\n        \"min\": 217.5500030517578,\n        \"max\": 420.55999755859375,\n        \"num_unique_values\": 755,\n        \"samples\": [\n          273.2900085449219,\n          282.0899963378906,\n          257.82000732421875\n        ],\n        \"semantic_type\": \"\",\n        \"description\": \"\"\n      }\n    },\n    {\n      \"column\": \"High\",\n      \"properties\": {\n        \"dtype\": \"number\",\n        \"std\": 47.10189708517755,\n        \"min\": 220.41000366210938,\n        \"max\": 420.82000732421875,\n        \"num_unique_values\": 741,\n        \"samples\": [\n          289.9700012207031,\n          327.45001220703125,\n          262.9800109863281\n        ],\n        \"semantic_type\": \"\",\n        \"description\": \"\"\n      }\n    },\n    {\n      \"column\": \"Low\",\n      \"properties\": {\n        \"dtype\": \"number\",\n        \"std\": 46.943365172469065,\n        \"min\": 213.42999267578125,\n        \"max\": 415.0899963378906,\n        \"num_unique_values\": 744,\n        \"samples\": [\n          317.0400085449219,\n          304.2699890136719,\n          373.4800109863281\n        ],\n        \"semantic_type\": \"\",\n        \"description\": \"\"\n      }\n    },\n    {\n      \"column\": \"Close\",\n      \"properties\": {\n        \"dtype\": \"number\",\n        \"std\": 47.10962272883587,\n        \"min\": 214.25,\n        \"max\": 420.54998779296875,\n        \"num_unique_values\": 750,\n        \"samples\": [\n          253.9199981689453,\n          276.4100036621094,\n          301.8800048828125\n        ],\n        \"semantic_type\": \"\",\n        \"description\": \"\"\n      }\n    },\n    {\n      \"column\": \"Adj Close\",\n      \"properties\": {\n        \"dtype\": \"number\",\n        \"std\": 48.072944606426766,\n        \"min\": 211.3792724609375,\n        \"max\": 419.7737121582031,\n        \"num_unique_values\": 764,\n        \"samples\": [\n          264.5775146484375,\n          290.6595764160156,\n          410.3399963378906\n        ],\n        \"semantic_type\": \"\",\n        \"description\": \"\"\n      }\n    },\n    {\n      \"column\": \"Volume\",\n      \"properties\": {\n        \"dtype\": \"number\",\n        \"std\": 10207597,\n        \"min\": 9200800,\n        \"max\": 90428900,\n        \"num_unique_values\": 768,\n        \"samples\": [\n          23153600,\n          28059000,\n          16966300\n        ],\n        \"semantic_type\": \"\",\n        \"description\": \"\"\n      }\n    }\n  ]\n}"
            }
          },
          "metadata": {},
          "execution_count": 106
        }
      ]
    },
    {
      "cell_type": "code",
      "execution_count": 107,
      "id": "d5144e93-eab7-479f-9fde-9bf8c5786dc6",
      "metadata": {
        "id": "d5144e93-eab7-479f-9fde-9bf8c5786dc6"
      },
      "outputs": [],
      "source": [
        "from sklearn.preprocessing import MinMaxScaler\n",
        "scaler = MinMaxScaler(feature_range=(0,1))"
      ]
    },
    {
      "cell_type": "code",
      "execution_count": 108,
      "id": "4c2793bd-1def-45f7-8fd2-9115eed1c2c1",
      "metadata": {
        "id": "4c2793bd-1def-45f7-8fd2-9115eed1c2c1"
      },
      "outputs": [],
      "source": [
        "train_close = train.iloc[:, 4:5].values\n",
        "test_close = test.iloc[:, 4:5].values"
      ]
    },
    {
      "cell_type": "code",
      "source": [
        "data_training_array = scaler.fit_transform(train_close)"
      ],
      "metadata": {
        "id": "UBJl4Sx-VBiy"
      },
      "id": "UBJl4Sx-VBiy",
      "execution_count": 109,
      "outputs": []
    },
    {
      "cell_type": "code",
      "execution_count": 110,
      "id": "d55d63c2-132a-40b5-9398-e576ceba14fd",
      "metadata": {
        "id": "d55d63c2-132a-40b5-9398-e576ceba14fd"
      },
      "outputs": [],
      "source": [
        "x_train = []\n",
        "y_train = []\n",
        "for i in range(100, data_training_array.shape[0]):\n",
        "  x_train.append(data_training_array[i-100: i])\n",
        "  y_train.append(data_training_array[i, 0])\n",
        "x_train, y_train = np.array(x_train), np.array(y_train)"
      ]
    },
    {
      "cell_type": "code",
      "source": [
        "x_train.shape"
      ],
      "metadata": {
        "colab": {
          "base_uri": "https://localhost:8080/"
        },
        "id": "bYAT36AsVNzJ",
        "outputId": "636d850a-36ea-45ea-946d-34289ae2b5bd"
      },
      "id": "bYAT36AsVNzJ",
      "execution_count": 111,
      "outputs": [
        {
          "output_type": "execute_result",
          "data": {
            "text/plain": [
              "(1696, 100, 1)"
            ]
          },
          "metadata": {},
          "execution_count": 111
        }
      ]
    },
    {
      "cell_type": "code",
      "execution_count": 112,
      "id": "3c9c6717-e792-4206-960f-0689203555ca",
      "metadata": {
        "id": "3c9c6717-e792-4206-960f-0689203555ca"
      },
      "outputs": [],
      "source": [
        "from keras.layers import Dense, Dropout, LSTM\n",
        "from keras.models import Sequential"
      ]
    },
    {
      "cell_type": "code",
      "execution_count": 113,
      "id": "14867cd4-c1ed-4cf9-b339-245bfaec0852",
      "metadata": {
        "id": "14867cd4-c1ed-4cf9-b339-245bfaec0852"
      },
      "outputs": [],
      "source": [
        "model = Sequential()\n",
        "model.add(LSTM(units = 50, activation = 'relu', return_sequences=True\n",
        "          ,input_shape = (x_train.shape[1], 1)))\n",
        "model.add(Dropout(0.2))\n",
        "model.add(LSTM(units = 60, activation = 'relu', return_sequences=True))\n",
        "model.add(Dropout(0.3))\n",
        "model.add(LSTM(units = 80, activation = 'relu', return_sequences=True))\n",
        "model.add(Dropout(0.4))\n",
        "model.add(LSTM(units = 120, activation = 'relu'))\n",
        "model.add(Dropout(0.5))\n",
        "model.add(Dense(units = 1))"
      ]
    },
    {
      "cell_type": "code",
      "source": [
        "model.summary()"
      ],
      "metadata": {
        "colab": {
          "base_uri": "https://localhost:8080/"
        },
        "id": "pAdxSChEVsXI",
        "outputId": "c704fd22-7795-4d93-9cd5-eca65a94078c"
      },
      "id": "pAdxSChEVsXI",
      "execution_count": 114,
      "outputs": [
        {
          "output_type": "stream",
          "name": "stdout",
          "text": [
            "Model: \"sequential_4\"\n",
            "_________________________________________________________________\n",
            " Layer (type)                Output Shape              Param #   \n",
            "=================================================================\n",
            " lstm_8 (LSTM)               (None, 100, 50)           10400     \n",
            "                                                                 \n",
            " dropout_8 (Dropout)         (None, 100, 50)           0         \n",
            "                                                                 \n",
            " lstm_9 (LSTM)               (None, 100, 60)           26640     \n",
            "                                                                 \n",
            " dropout_9 (Dropout)         (None, 100, 60)           0         \n",
            "                                                                 \n",
            " lstm_10 (LSTM)              (None, 100, 80)           45120     \n",
            "                                                                 \n",
            " dropout_10 (Dropout)        (None, 100, 80)           0         \n",
            "                                                                 \n",
            " lstm_11 (LSTM)              (None, 120)               96480     \n",
            "                                                                 \n",
            " dropout_11 (Dropout)        (None, 120)               0         \n",
            "                                                                 \n",
            " dense_2 (Dense)             (None, 1)                 121       \n",
            "                                                                 \n",
            "=================================================================\n",
            "Total params: 178761 (698.29 KB)\n",
            "Trainable params: 178761 (698.29 KB)\n",
            "Non-trainable params: 0 (0.00 Byte)\n",
            "_________________________________________________________________\n"
          ]
        }
      ]
    },
    {
      "cell_type": "code",
      "execution_count": 115,
      "id": "c69edcc2-b11d-4702-8a6c-f6a6e677e79a",
      "metadata": {
        "id": "c69edcc2-b11d-4702-8a6c-f6a6e677e79a"
      },
      "outputs": [],
      "source": [
        "model.compile(optimizer = 'adam', loss = 'mean_squared_error', metrics = ['MAE'])"
      ]
    },
    {
      "cell_type": "code",
      "execution_count": 116,
      "id": "f36e439a-0106-4108-9630-7cdd7e5428e4",
      "metadata": {
        "colab": {
          "base_uri": "https://localhost:8080/"
        },
        "id": "f36e439a-0106-4108-9630-7cdd7e5428e4",
        "outputId": "1e41356f-a8f7-4a3a-a1e2-49b29f749bdc"
      },
      "outputs": [
        {
          "output_type": "stream",
          "name": "stdout",
          "text": [
            "Epoch 1/50\n",
            "53/53 [==============================] - 16s 234ms/step - loss: 0.0310 - MAE: 0.1187\n",
            "Epoch 2/50\n",
            "53/53 [==============================] - 12s 233ms/step - loss: 0.0085 - MAE: 0.0600\n",
            "Epoch 3/50\n",
            "53/53 [==============================] - 12s 232ms/step - loss: 0.0061 - MAE: 0.0493\n",
            "Epoch 4/50\n",
            "53/53 [==============================] - 12s 231ms/step - loss: 0.0062 - MAE: 0.0502\n",
            "Epoch 5/50\n",
            "53/53 [==============================] - 12s 233ms/step - loss: 0.0051 - MAE: 0.0458\n",
            "Epoch 6/50\n",
            "53/53 [==============================] - 12s 234ms/step - loss: 0.0048 - MAE: 0.0449\n",
            "Epoch 7/50\n",
            "53/53 [==============================] - 12s 233ms/step - loss: 0.0050 - MAE: 0.0453\n",
            "Epoch 8/50\n",
            "53/53 [==============================] - 12s 231ms/step - loss: 0.0041 - MAE: 0.0409\n",
            "Epoch 9/50\n",
            "53/53 [==============================] - 12s 232ms/step - loss: 0.0042 - MAE: 0.0409\n",
            "Epoch 10/50\n",
            "53/53 [==============================] - 12s 232ms/step - loss: 0.0036 - MAE: 0.0374\n",
            "Epoch 11/50\n",
            "53/53 [==============================] - 12s 233ms/step - loss: 0.0041 - MAE: 0.0388\n",
            "Epoch 12/50\n",
            "53/53 [==============================] - 12s 232ms/step - loss: 0.0036 - MAE: 0.0377\n",
            "Epoch 13/50\n",
            "53/53 [==============================] - 12s 232ms/step - loss: 0.0035 - MAE: 0.0381\n",
            "Epoch 14/50\n",
            "53/53 [==============================] - 12s 234ms/step - loss: 0.0037 - MAE: 0.0392\n",
            "Epoch 15/50\n",
            "53/53 [==============================] - 12s 233ms/step - loss: 0.0034 - MAE: 0.0381\n",
            "Epoch 16/50\n",
            "53/53 [==============================] - 12s 233ms/step - loss: 0.0044 - MAE: 0.0426\n",
            "Epoch 17/50\n",
            "53/53 [==============================] - 12s 233ms/step - loss: 0.0035 - MAE: 0.0392\n",
            "Epoch 18/50\n",
            "53/53 [==============================] - 12s 234ms/step - loss: 0.0029 - MAE: 0.0352\n",
            "Epoch 19/50\n",
            "53/53 [==============================] - 12s 233ms/step - loss: 0.0031 - MAE: 0.0370\n",
            "Epoch 20/50\n",
            "53/53 [==============================] - 12s 232ms/step - loss: 0.0033 - MAE: 0.0379\n",
            "Epoch 21/50\n",
            "53/53 [==============================] - 12s 233ms/step - loss: 0.0038 - MAE: 0.0401\n",
            "Epoch 22/50\n",
            "53/53 [==============================] - 12s 234ms/step - loss: 0.0031 - MAE: 0.0374\n",
            "Epoch 23/50\n",
            "53/53 [==============================] - 12s 231ms/step - loss: 0.0038 - MAE: 0.0409\n",
            "Epoch 24/50\n",
            "53/53 [==============================] - 12s 232ms/step - loss: 0.0036 - MAE: 0.0390\n",
            "Epoch 25/50\n",
            "53/53 [==============================] - 12s 233ms/step - loss: 0.0032 - MAE: 0.0368\n",
            "Epoch 26/50\n",
            "53/53 [==============================] - 12s 234ms/step - loss: 0.0033 - MAE: 0.0374\n",
            "Epoch 27/50\n",
            "53/53 [==============================] - 12s 233ms/step - loss: 0.0036 - MAE: 0.0396\n",
            "Epoch 28/50\n",
            "53/53 [==============================] - 12s 232ms/step - loss: 0.0033 - MAE: 0.0391\n",
            "Epoch 29/50\n",
            "53/53 [==============================] - 12s 234ms/step - loss: 0.0035 - MAE: 0.0396\n",
            "Epoch 30/50\n",
            "53/53 [==============================] - 12s 233ms/step - loss: 0.0037 - MAE: 0.0405\n",
            "Epoch 31/50\n",
            "53/53 [==============================] - 12s 232ms/step - loss: 0.0031 - MAE: 0.0380\n",
            "Epoch 32/50\n",
            "53/53 [==============================] - 12s 232ms/step - loss: 0.0032 - MAE: 0.0375\n",
            "Epoch 33/50\n",
            "53/53 [==============================] - 12s 232ms/step - loss: 0.0031 - MAE: 0.0378\n",
            "Epoch 34/50\n",
            "53/53 [==============================] - 12s 231ms/step - loss: 0.0031 - MAE: 0.0374\n",
            "Epoch 35/50\n",
            "53/53 [==============================] - 12s 234ms/step - loss: 0.0031 - MAE: 0.0366\n",
            "Epoch 36/50\n",
            "53/53 [==============================] - 12s 233ms/step - loss: 0.0031 - MAE: 0.0361\n",
            "Epoch 37/50\n",
            "53/53 [==============================] - 12s 232ms/step - loss: 0.0031 - MAE: 0.0369\n",
            "Epoch 38/50\n",
            "53/53 [==============================] - 12s 231ms/step - loss: 0.0031 - MAE: 0.0375\n",
            "Epoch 39/50\n",
            "53/53 [==============================] - 12s 233ms/step - loss: 0.0030 - MAE: 0.0357\n",
            "Epoch 40/50\n",
            "53/53 [==============================] - 12s 233ms/step - loss: 0.0030 - MAE: 0.0371\n",
            "Epoch 41/50\n",
            "53/53 [==============================] - 12s 235ms/step - loss: 0.0031 - MAE: 0.0359\n",
            "Epoch 42/50\n",
            "53/53 [==============================] - 12s 231ms/step - loss: 0.0030 - MAE: 0.0359\n",
            "Epoch 43/50\n",
            "53/53 [==============================] - 12s 232ms/step - loss: 0.0032 - MAE: 0.0384\n",
            "Epoch 44/50\n",
            "53/53 [==============================] - 12s 236ms/step - loss: 0.0032 - MAE: 0.0379\n",
            "Epoch 45/50\n",
            "53/53 [==============================] - 12s 233ms/step - loss: 0.0029 - MAE: 0.0359\n",
            "Epoch 46/50\n",
            "53/53 [==============================] - 12s 236ms/step - loss: 0.0032 - MAE: 0.0384\n",
            "Epoch 47/50\n",
            "53/53 [==============================] - 12s 234ms/step - loss: 0.0030 - MAE: 0.0363\n",
            "Epoch 48/50\n",
            "53/53 [==============================] - 12s 232ms/step - loss: 0.0035 - MAE: 0.0402\n",
            "Epoch 49/50\n",
            "53/53 [==============================] - 12s 232ms/step - loss: 0.0027 - MAE: 0.0337\n",
            "Epoch 50/50\n",
            "53/53 [==============================] - 12s 234ms/step - loss: 0.0028 - MAE: 0.0348\n"
          ]
        },
        {
          "output_type": "execute_result",
          "data": {
            "text/plain": [
              "<keras.src.callbacks.History at 0x7c68690152a0>"
            ]
          },
          "metadata": {},
          "execution_count": 116
        }
      ],
      "source": [
        "model.fit(x_train, y_train, epochs = 50, batch_size =32, verbose =1)"
      ]
    },
    {
      "cell_type": "code",
      "execution_count": 117,
      "id": "89cf9dc7-4e14-4c80-82bc-d6dcac8c98a2",
      "metadata": {
        "id": "89cf9dc7-4e14-4c80-82bc-d6dcac8c98a2"
      },
      "outputs": [],
      "source": [
        "past_100_days = pd.DataFrame(train_close[-100:])"
      ]
    },
    {
      "cell_type": "code",
      "source": [
        "test_df = pd.DataFrame(test_close)\n"
      ],
      "metadata": {
        "id": "aB958E5JX7Zv"
      },
      "id": "aB958E5JX7Zv",
      "execution_count": 118,
      "outputs": []
    },
    {
      "cell_type": "code",
      "execution_count": 119,
      "id": "67ef7a1e-63cc-4874-9b61-634026572822",
      "metadata": {
        "id": "67ef7a1e-63cc-4874-9b61-634026572822",
        "colab": {
          "base_uri": "https://localhost:8080/"
        },
        "outputId": "7927a672-331d-454e-978b-9674ed99c0f8"
      },
      "outputs": [
        {
          "output_type": "stream",
          "name": "stderr",
          "text": [
            "<ipython-input-119-50640d85f7a0>:1: FutureWarning: The frame.append method is deprecated and will be removed from pandas in a future version. Use pandas.concat instead.\n",
            "  final_df = past_100_days.append(test_df, ignore_index = True)\n"
          ]
        }
      ],
      "source": [
        "final_df = past_100_days.append(test_df, ignore_index = True)"
      ]
    },
    {
      "cell_type": "code",
      "source": [
        "final_df.head()"
      ],
      "metadata": {
        "colab": {
          "base_uri": "https://localhost:8080/",
          "height": 206
        },
        "id": "rJ4SqPYjYB0W",
        "outputId": "cd7fee71-f61e-4d51-8d91-1e25246fe2a8"
      },
      "id": "rJ4SqPYjYB0W",
      "execution_count": 120,
      "outputs": [
        {
          "output_type": "execute_result",
          "data": {
            "text/plain": [
              "            0\n",
              "0  209.440002\n",
              "1  207.259995\n",
              "2  210.330002\n",
              "3  212.460007\n",
              "4  206.190002"
            ],
            "text/html": [
              "\n",
              "  <div id=\"df-364d962b-8861-4b8b-bf69-adc264946827\" class=\"colab-df-container\">\n",
              "    <div>\n",
              "<style scoped>\n",
              "    .dataframe tbody tr th:only-of-type {\n",
              "        vertical-align: middle;\n",
              "    }\n",
              "\n",
              "    .dataframe tbody tr th {\n",
              "        vertical-align: top;\n",
              "    }\n",
              "\n",
              "    .dataframe thead th {\n",
              "        text-align: right;\n",
              "    }\n",
              "</style>\n",
              "<table border=\"1\" class=\"dataframe\">\n",
              "  <thead>\n",
              "    <tr style=\"text-align: right;\">\n",
              "      <th></th>\n",
              "      <th>0</th>\n",
              "    </tr>\n",
              "  </thead>\n",
              "  <tbody>\n",
              "    <tr>\n",
              "      <th>0</th>\n",
              "      <td>209.440002</td>\n",
              "    </tr>\n",
              "    <tr>\n",
              "      <th>1</th>\n",
              "      <td>207.259995</td>\n",
              "    </tr>\n",
              "    <tr>\n",
              "      <th>2</th>\n",
              "      <td>210.330002</td>\n",
              "    </tr>\n",
              "    <tr>\n",
              "      <th>3</th>\n",
              "      <td>212.460007</td>\n",
              "    </tr>\n",
              "    <tr>\n",
              "      <th>4</th>\n",
              "      <td>206.190002</td>\n",
              "    </tr>\n",
              "  </tbody>\n",
              "</table>\n",
              "</div>\n",
              "    <div class=\"colab-df-buttons\">\n",
              "\n",
              "  <div class=\"colab-df-container\">\n",
              "    <button class=\"colab-df-convert\" onclick=\"convertToInteractive('df-364d962b-8861-4b8b-bf69-adc264946827')\"\n",
              "            title=\"Convert this dataframe to an interactive table.\"\n",
              "            style=\"display:none;\">\n",
              "\n",
              "  <svg xmlns=\"http://www.w3.org/2000/svg\" height=\"24px\" viewBox=\"0 -960 960 960\">\n",
              "    <path d=\"M120-120v-720h720v720H120Zm60-500h600v-160H180v160Zm220 220h160v-160H400v160Zm0 220h160v-160H400v160ZM180-400h160v-160H180v160Zm440 0h160v-160H620v160ZM180-180h160v-160H180v160Zm440 0h160v-160H620v160Z\"/>\n",
              "  </svg>\n",
              "    </button>\n",
              "\n",
              "  <style>\n",
              "    .colab-df-container {\n",
              "      display:flex;\n",
              "      gap: 12px;\n",
              "    }\n",
              "\n",
              "    .colab-df-convert {\n",
              "      background-color: #E8F0FE;\n",
              "      border: none;\n",
              "      border-radius: 50%;\n",
              "      cursor: pointer;\n",
              "      display: none;\n",
              "      fill: #1967D2;\n",
              "      height: 32px;\n",
              "      padding: 0 0 0 0;\n",
              "      width: 32px;\n",
              "    }\n",
              "\n",
              "    .colab-df-convert:hover {\n",
              "      background-color: #E2EBFA;\n",
              "      box-shadow: 0px 1px 2px rgba(60, 64, 67, 0.3), 0px 1px 3px 1px rgba(60, 64, 67, 0.15);\n",
              "      fill: #174EA6;\n",
              "    }\n",
              "\n",
              "    .colab-df-buttons div {\n",
              "      margin-bottom: 4px;\n",
              "    }\n",
              "\n",
              "    [theme=dark] .colab-df-convert {\n",
              "      background-color: #3B4455;\n",
              "      fill: #D2E3FC;\n",
              "    }\n",
              "\n",
              "    [theme=dark] .colab-df-convert:hover {\n",
              "      background-color: #434B5C;\n",
              "      box-shadow: 0px 1px 3px 1px rgba(0, 0, 0, 0.15);\n",
              "      filter: drop-shadow(0px 1px 2px rgba(0, 0, 0, 0.3));\n",
              "      fill: #FFFFFF;\n",
              "    }\n",
              "  </style>\n",
              "\n",
              "    <script>\n",
              "      const buttonEl =\n",
              "        document.querySelector('#df-364d962b-8861-4b8b-bf69-adc264946827 button.colab-df-convert');\n",
              "      buttonEl.style.display =\n",
              "        google.colab.kernel.accessAllowed ? 'block' : 'none';\n",
              "\n",
              "      async function convertToInteractive(key) {\n",
              "        const element = document.querySelector('#df-364d962b-8861-4b8b-bf69-adc264946827');\n",
              "        const dataTable =\n",
              "          await google.colab.kernel.invokeFunction('convertToInteractive',\n",
              "                                                    [key], {});\n",
              "        if (!dataTable) return;\n",
              "\n",
              "        const docLinkHtml = 'Like what you see? Visit the ' +\n",
              "          '<a target=\"_blank\" href=https://colab.research.google.com/notebooks/data_table.ipynb>data table notebook</a>'\n",
              "          + ' to learn more about interactive tables.';\n",
              "        element.innerHTML = '';\n",
              "        dataTable['output_type'] = 'display_data';\n",
              "        await google.colab.output.renderOutput(dataTable, element);\n",
              "        const docLink = document.createElement('div');\n",
              "        docLink.innerHTML = docLinkHtml;\n",
              "        element.appendChild(docLink);\n",
              "      }\n",
              "    </script>\n",
              "  </div>\n",
              "\n",
              "\n",
              "<div id=\"df-1f8b20c7-add6-400b-bb83-a5a2c34f4b82\">\n",
              "  <button class=\"colab-df-quickchart\" onclick=\"quickchart('df-1f8b20c7-add6-400b-bb83-a5a2c34f4b82')\"\n",
              "            title=\"Suggest charts\"\n",
              "            style=\"display:none;\">\n",
              "\n",
              "<svg xmlns=\"http://www.w3.org/2000/svg\" height=\"24px\"viewBox=\"0 0 24 24\"\n",
              "     width=\"24px\">\n",
              "    <g>\n",
              "        <path d=\"M19 3H5c-1.1 0-2 .9-2 2v14c0 1.1.9 2 2 2h14c1.1 0 2-.9 2-2V5c0-1.1-.9-2-2-2zM9 17H7v-7h2v7zm4 0h-2V7h2v10zm4 0h-2v-4h2v4z\"/>\n",
              "    </g>\n",
              "</svg>\n",
              "  </button>\n",
              "\n",
              "<style>\n",
              "  .colab-df-quickchart {\n",
              "      --bg-color: #E8F0FE;\n",
              "      --fill-color: #1967D2;\n",
              "      --hover-bg-color: #E2EBFA;\n",
              "      --hover-fill-color: #174EA6;\n",
              "      --disabled-fill-color: #AAA;\n",
              "      --disabled-bg-color: #DDD;\n",
              "  }\n",
              "\n",
              "  [theme=dark] .colab-df-quickchart {\n",
              "      --bg-color: #3B4455;\n",
              "      --fill-color: #D2E3FC;\n",
              "      --hover-bg-color: #434B5C;\n",
              "      --hover-fill-color: #FFFFFF;\n",
              "      --disabled-bg-color: #3B4455;\n",
              "      --disabled-fill-color: #666;\n",
              "  }\n",
              "\n",
              "  .colab-df-quickchart {\n",
              "    background-color: var(--bg-color);\n",
              "    border: none;\n",
              "    border-radius: 50%;\n",
              "    cursor: pointer;\n",
              "    display: none;\n",
              "    fill: var(--fill-color);\n",
              "    height: 32px;\n",
              "    padding: 0;\n",
              "    width: 32px;\n",
              "  }\n",
              "\n",
              "  .colab-df-quickchart:hover {\n",
              "    background-color: var(--hover-bg-color);\n",
              "    box-shadow: 0 1px 2px rgba(60, 64, 67, 0.3), 0 1px 3px 1px rgba(60, 64, 67, 0.15);\n",
              "    fill: var(--button-hover-fill-color);\n",
              "  }\n",
              "\n",
              "  .colab-df-quickchart-complete:disabled,\n",
              "  .colab-df-quickchart-complete:disabled:hover {\n",
              "    background-color: var(--disabled-bg-color);\n",
              "    fill: var(--disabled-fill-color);\n",
              "    box-shadow: none;\n",
              "  }\n",
              "\n",
              "  .colab-df-spinner {\n",
              "    border: 2px solid var(--fill-color);\n",
              "    border-color: transparent;\n",
              "    border-bottom-color: var(--fill-color);\n",
              "    animation:\n",
              "      spin 1s steps(1) infinite;\n",
              "  }\n",
              "\n",
              "  @keyframes spin {\n",
              "    0% {\n",
              "      border-color: transparent;\n",
              "      border-bottom-color: var(--fill-color);\n",
              "      border-left-color: var(--fill-color);\n",
              "    }\n",
              "    20% {\n",
              "      border-color: transparent;\n",
              "      border-left-color: var(--fill-color);\n",
              "      border-top-color: var(--fill-color);\n",
              "    }\n",
              "    30% {\n",
              "      border-color: transparent;\n",
              "      border-left-color: var(--fill-color);\n",
              "      border-top-color: var(--fill-color);\n",
              "      border-right-color: var(--fill-color);\n",
              "    }\n",
              "    40% {\n",
              "      border-color: transparent;\n",
              "      border-right-color: var(--fill-color);\n",
              "      border-top-color: var(--fill-color);\n",
              "    }\n",
              "    60% {\n",
              "      border-color: transparent;\n",
              "      border-right-color: var(--fill-color);\n",
              "    }\n",
              "    80% {\n",
              "      border-color: transparent;\n",
              "      border-right-color: var(--fill-color);\n",
              "      border-bottom-color: var(--fill-color);\n",
              "    }\n",
              "    90% {\n",
              "      border-color: transparent;\n",
              "      border-bottom-color: var(--fill-color);\n",
              "    }\n",
              "  }\n",
              "</style>\n",
              "\n",
              "  <script>\n",
              "    async function quickchart(key) {\n",
              "      const quickchartButtonEl =\n",
              "        document.querySelector('#' + key + ' button');\n",
              "      quickchartButtonEl.disabled = true;  // To prevent multiple clicks.\n",
              "      quickchartButtonEl.classList.add('colab-df-spinner');\n",
              "      try {\n",
              "        const charts = await google.colab.kernel.invokeFunction(\n",
              "            'suggestCharts', [key], {});\n",
              "      } catch (error) {\n",
              "        console.error('Error during call to suggestCharts:', error);\n",
              "      }\n",
              "      quickchartButtonEl.classList.remove('colab-df-spinner');\n",
              "      quickchartButtonEl.classList.add('colab-df-quickchart-complete');\n",
              "    }\n",
              "    (() => {\n",
              "      let quickchartButtonEl =\n",
              "        document.querySelector('#df-1f8b20c7-add6-400b-bb83-a5a2c34f4b82 button');\n",
              "      quickchartButtonEl.style.display =\n",
              "        google.colab.kernel.accessAllowed ? 'block' : 'none';\n",
              "    })();\n",
              "  </script>\n",
              "</div>\n",
              "    </div>\n",
              "  </div>\n"
            ],
            "application/vnd.google.colaboratory.intrinsic+json": {
              "type": "dataframe",
              "variable_name": "final_df",
              "summary": "{\n  \"name\": \"final_df\",\n  \"rows\": 870,\n  \"fields\": [\n    {\n      \"column\": 0,\n      \"properties\": {\n        \"dtype\": \"number\",\n        \"std\": 50.66066025440721,\n        \"min\": 202.3300018310547,\n        \"max\": 420.54998779296875,\n        \"num_unique_values\": 847,\n        \"samples\": [\n          278.010009765625,\n          304.55999755859375,\n          335.95001220703125\n        ],\n        \"semantic_type\": \"\",\n        \"description\": \"\"\n      }\n    }\n  ]\n}"
            }
          },
          "metadata": {},
          "execution_count": 120
        }
      ]
    },
    {
      "cell_type": "code",
      "execution_count": 121,
      "id": "7a0512e4-0eaf-4137-b61d-8bb0e48ca041",
      "metadata": {
        "id": "7a0512e4-0eaf-4137-b61d-8bb0e48ca041"
      },
      "outputs": [],
      "source": [
        "input_data = scaler.fit_transform(final_df)"
      ]
    },
    {
      "cell_type": "code",
      "source": [
        "input_data.shape"
      ],
      "metadata": {
        "colab": {
          "base_uri": "https://localhost:8080/"
        },
        "id": "XMnnEYemq0e1",
        "outputId": "92710416-f842-41dc-e373-2c24c1768920"
      },
      "id": "XMnnEYemq0e1",
      "execution_count": 122,
      "outputs": [
        {
          "output_type": "execute_result",
          "data": {
            "text/plain": [
              "(870, 1)"
            ]
          },
          "metadata": {},
          "execution_count": 122
        }
      ]
    },
    {
      "cell_type": "code",
      "execution_count": 123,
      "id": "536de9d0-2cc7-41dd-b500-affd3e3fec9d",
      "metadata": {
        "id": "536de9d0-2cc7-41dd-b500-affd3e3fec9d"
      },
      "outputs": [],
      "source": [
        "x_test = []\n",
        "y_test = []\n",
        "for i in range(100, input_data.shape[0]):\n",
        "  x_test.append(input_data[i-100: i])\n",
        "  y_test.append(input_data[i, 0])"
      ]
    },
    {
      "cell_type": "code",
      "source": [
        "x_test, y_test = np.array(x_test), np.array(y_test)\n",
        "print(x_test.shape)\n",
        "print(y_test.shape)"
      ],
      "metadata": {
        "colab": {
          "base_uri": "https://localhost:8080/"
        },
        "id": "FUPYsfR3YUDV",
        "outputId": "f46ddc8f-04c8-4f7c-a7eb-df1a9d2cedae"
      },
      "id": "FUPYsfR3YUDV",
      "execution_count": 124,
      "outputs": [
        {
          "output_type": "stream",
          "name": "stdout",
          "text": [
            "(770, 100, 1)\n",
            "(770,)\n"
          ]
        }
      ]
    },
    {
      "cell_type": "code",
      "execution_count": 125,
      "id": "4602f57f-8832-4bf6-a50e-bb5164ff7872",
      "metadata": {
        "colab": {
          "base_uri": "https://localhost:8080/"
        },
        "id": "4602f57f-8832-4bf6-a50e-bb5164ff7872",
        "outputId": "bd6bd56d-c3b7-4aea-a515-47166b83480b"
      },
      "outputs": [
        {
          "output_type": "stream",
          "name": "stdout",
          "text": [
            "25/25 [==============================] - 3s 73ms/step\n"
          ]
        }
      ],
      "source": [
        "y_pred = model.predict(x_test)"
      ]
    },
    {
      "cell_type": "code",
      "execution_count": 126,
      "id": "ca2d2d64-b69a-4eb3-b4f6-5356bfb5b74a",
      "metadata": {
        "id": "ca2d2d64-b69a-4eb3-b4f6-5356bfb5b74a"
      },
      "outputs": [],
      "source": [
        "scale_factor = 1/scaler.scale_\n",
        "y_pred = y_pred * scale_factor\n",
        "y_test = y_test * scale_factor"
      ]
    },
    {
      "cell_type": "code",
      "execution_count": 129,
      "id": "6ab280be-9494-4ea1-baf2-45fc38130366",
      "metadata": {
        "colab": {
          "base_uri": "https://localhost:8080/",
          "height": 542
        },
        "id": "6ab280be-9494-4ea1-baf2-45fc38130366",
        "outputId": "54db9377-f034-4999-f05e-a2572e2fc8c5"
      },
      "outputs": [
        {
          "output_type": "display_data",
          "data": {
            "text/plain": [
              "<Figure size 1200x600 with 1 Axes>"
            ],
            "image/png": "[encoded data removed]"
          },
          "metadata": {}
        }
      ],
      "source": [
        "plt.figure(figsize = (12,6))\n",
        "plt.plot(y_test, 'b', label = \"Original Price\")\n",
        "plt.plot(y_pred, 'r', label = \"Predicted Price\")\n",
        "plt.xlabel('Time')\n",
        "plt.ylabel('Price')\n",
        "plt.legend()\n",
        "plt.show()"
      ]
    },
    {
      "cell_type": "code",
      "source": [
        "from sklearn.metrics import mean_absolute_error\n",
        "mae = mean_absolute_error(y_test, y_pred)\n",
        "mae_percentage = (mae / np.mean(y_test)) * 100\n",
        "print(\"Mean absolute error on test set: {:.2f}%\".format(mae_percentage))"
      ],
      "metadata": {
        "colab": {
          "base_uri": "https://localhost:8080/"
        },
        "id": "nVy6RXxurrsE",
        "outputId": "bf3a5c5f-664b-4624-b449-e423225d3470"
      },
      "id": "nVy6RXxurrsE",
      "execution_count": 130,
      "outputs": [
        {
          "output_type": "stream",
          "name": "stdout",
          "text": [
            "Mean absolute error on test set: 10.94%\n"
          ]
        }
      ]
    },
    {
      "cell_type": "code",
      "source": [
        "from sklearn.metrics import r2_score\n",
        "# Actual values\n",
        "actual = y_test\n",
        "# Predicted values\n",
        "predicted = y_pred\n",
        "# Calculate the R2 score\n",
        "r2 = r2_score(actual, predicted)\n",
        "print(\"R2 score:\", r2)"
      ],
      "metadata": {
        "colab": {
          "base_uri": "https://localhost:8080/"
        },
        "id": "Yu9uJxpsrtCc",
        "outputId": "96765ea9-f1a4-4ace-d723-a98e77dcefb9"
      },
      "id": "Yu9uJxpsrtCc",
      "execution_count": 131,
      "outputs": [
        {
          "output_type": "stream",
          "name": "stdout",
          "text": [
            "R2 score: 0.9293355317371423\n"
          ]
        }
      ]
    },
    {
      "cell_type": "code",
      "source": [],
      "metadata": {
        "id": "FLn1LAotr5SL"
      },
      "id": "FLn1LAotr5SL",
      "execution_count": null,
      "outputs": []
    },
    {
      "cell_type": "code",
      "source": [],
      "metadata": {
        "id": "-39yUILHr5nR"
      },
      "id": "-39yUILHr5nR",
      "execution_count": null,
      "outputs": []
    },
    {
      "cell_type": "code",
      "source": [
        "print(y_pred[-1])"
      ],
      "metadata": {
        "colab": {
          "base_uri": "https://localhost:8080/"
        },
        "id": "ooqIj99kbwEZ",
        "outputId": "4304e846-b041-49b3-a784-033e5d271141"
      },
      "id": "ooqIj99kbwEZ",
      "execution_count": null,
      "outputs": [
        {
          "output_type": "stream",
          "name": "stdout",
          "text": [
            "[93.13312]\n"
          ]
        }
      ]
    },
    {
      "cell_type": "code",
      "source": [
        "model.save('Stock Prediction Model.keras')"
      ],
      "metadata": {
        "id": "XuB0baabSYsc"
      },
      "id": "XuB0baabSYsc",
      "execution_count": null,
      "outputs": []
    },
    {
      "cell_type": "code",
      "execution_count": null,
      "id": "22143940-722e-4c05-8b46-d2f7d9abb882",
      "metadata": {
        "id": "22143940-722e-4c05-8b46-d2f7d9abb882"
      },
      "outputs": [],
      "source": [
        "end_date = '2024-03-07'\n",
        "num_days = 7"
      ]
    },
    {
      "cell_type": "code",
      "source": [
        "print(end_date)"
      ],
      "metadata": {
        "colab": {
          "base_uri": "https://localhost:8080/"
        },
        "id": "oeLVX3VfK3d_",
        "outputId": "4407de53-69a5-4b1f-880c-7c2ca9b055c5"
      },
      "id": "oeLVX3VfK3d_",
      "execution_count": null,
      "outputs": [
        {
          "output_type": "stream",
          "name": "stdout",
          "text": [
            "2024-03-07\n"
          ]
        }
      ]
    },
    {
      "cell_type": "code",
      "source": [
        "start_date = pd.to_datetime(end_date) - pd.DateOffset(days=100)\n",
        "data = yf.download(stock, start=start_date, end=end_date)\n",
        "data.reset_index(inplace=True)"
      ],
      "metadata": {
        "colab": {
          "base_uri": "https://localhost:8080/"
        },
        "id": "k39VHn4A-Oxl",
        "outputId": "83100e25-df07-43d5-ae4d-49ef6d71fb92"
      },
      "id": "k39VHn4A-Oxl",
      "execution_count": null,
      "outputs": [
        {
          "output_type": "stream",
          "name": "stderr",
          "text": [
            "\r[*********************100%%**********************]  1 of 1 completed\n"
          ]
        }
      ]
    },
    {
      "cell_type": "code",
      "source": [
        "print(len(data))"
      ],
      "metadata": {
        "colab": {
          "base_uri": "https://localhost:8080/"
        },
        "id": "OjzRxR9OA-kN",
        "outputId": "2ef3bd16-a1f1-49ec-8bbe-0a12c37119ee"
      },
      "id": "OjzRxR9OA-kN",
      "execution_count": null,
      "outputs": [
        {
          "output_type": "stream",
          "name": "stdout",
          "text": [
            "68\n"
          ]
        }
      ]
    },
    {
      "cell_type": "code",
      "source": [
        "if len(data) < 68:\n",
        "        print(\"Insufficient data for prediction. Please provide more historical data.\")"
      ],
      "metadata": {
        "id": "fggccoD7_3eU"
      },
      "id": "fggccoD7_3eU",
      "execution_count": null,
      "outputs": []
    },
    {
      "cell_type": "code",
      "source": [
        "data_scale = scaler.transform(data[['Close']])"
      ],
      "metadata": {
        "id": "R6kO0RKi-dp3"
      },
      "id": "R6kO0RKi-dp3",
      "execution_count": null,
      "outputs": []
    },
    {
      "cell_type": "code",
      "source": [
        "# Prepare data for prediction\n",
        "x_pred = []\n",
        "if data_scale.shape[0] == 68:\n",
        "    x_pred.append(data_scale[0:68])  # Include the first 100 data points\n",
        "    print(\"yes\")\n",
        "else:\n",
        "    for i in range(68, data_scale.shape[0]):\n",
        "        x_pred.append(data_scale[i-68:i])\n",
        "x_pred = np.array(x_pred)\n"
      ],
      "metadata": {
        "id": "xZwLVifT-h4U",
        "colab": {
          "base_uri": "https://localhost:8080/"
        },
        "outputId": "733487a6-3365-4b35-ce1d-22d265265aa3"
      },
      "id": "xZwLVifT-h4U",
      "execution_count": null,
      "outputs": [
        {
          "output_type": "stream",
          "name": "stdout",
          "text": [
            "yes\n"
          ]
        }
      ]
    },
    {
      "cell_type": "code",
      "source": [
        "if x_pred.shape[0] == 0:\n",
        "  print(\"No valid data points for prediction.\")"
      ],
      "metadata": {
        "id": "f2_JkBRN-n0c"
      },
      "id": "f2_JkBRN-n0c",
      "execution_count": null,
      "outputs": []
    },
    {
      "cell_type": "code",
      "source": [
        "predicted_prices = []\n",
        "latest_x = x_pred[-1]  # Get the latest sequence of 100 data points\n",
        "for _ in range(num_days):\n",
        "  y_pred_scaled = model.predict(np.array([latest_x]))  # Predict for one day ahead\n",
        "  predicted_price = y_pred_scaled[0][0] * (1 / scaler.scale_)  # Inverse scale\n",
        "  predicted_prices.append(predicted_price)\n",
        "\n",
        "        # Update the latest_x with the new prediction\n",
        "  latest_x = np.roll(latest_x, -1, axis=0)  # Shift the sequence by one step\n",
        "  latest_x[-1] = y_pred_scaled[0]"
      ],
      "metadata": {
        "colab": {
          "base_uri": "https://localhost:8080/"
        },
        "id": "ZBg0fykc-ro4",
        "outputId": "487539fc-d9e1-45a9-8d6d-a5409fc40f46"
      },
      "id": "ZBg0fykc-ro4",
      "execution_count": null,
      "outputs": [
        {
          "output_type": "stream",
          "name": "stdout",
          "text": [
            "1/1 [==============================] - 1s 640ms/step\n",
            "1/1 [==============================] - 0s 51ms/step\n",
            "1/1 [==============================] - 0s 72ms/step\n",
            "1/1 [==============================] - 0s 53ms/step\n",
            "1/1 [==============================] - 0s 45ms/step\n",
            "1/1 [==============================] - 0s 50ms/step\n",
            "1/1 [==============================] - 0s 54ms/step\n"
          ]
        }
      ]
    },
    {
      "cell_type": "code",
      "source": [
        "predicted_prices = np.array(predicted_prices)\n",
        "print(predicted_prices)"
      ],
      "metadata": {
        "colab": {
          "base_uri": "https://localhost:8080/"
        },
        "id": "E56Fxv66EXXd",
        "outputId": "af9ff96f-b480-4629-f8bc-a830a3ed0e67"
      },
      "id": "E56Fxv66EXXd",
      "execution_count": null,
      "outputs": [
        {
          "output_type": "stream",
          "name": "stdout",
          "text": [
            "[[60.76781187]\n",
            " [60.07293979]\n",
            " [59.54484518]\n",
            " [59.23068298]\n",
            " [59.11986374]\n",
            " [59.16984255]\n",
            " [59.32936475]]\n"
          ]
        }
      ]
    }
  ],
  "metadata": {
    "kernelspec": {
      "display_name": "Python 3 (ipykernel)",
      "language": "python",
      "name": "python3"
    },
    "language_info": {
      "codemirror_mode": {
        "name": "ipython",
        "version": 3
      },
      "file_extension": ".py",
      "mimetype": "text/x-python",
      "name": "python",
      "nbconvert_exporter": "python",
      "pygments_lexer": "ipython3",
      "version": "3.11.6"
    },
    "colab": {
      "provenance": []
    }
  },
  "nbformat": 4,
  "nbformat_minor": 5
}